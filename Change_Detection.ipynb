{
 "cells": [
  {
   "cell_type": "code",
   "execution_count": 1,
   "id": "5a13dc5b",
   "metadata": {},
   "outputs": [],
   "source": [
    "import cv2\n",
    "import os\n",
    "import numpy as np\n",
    "from pathlib import Path"
   ]
  },
  {
   "cell_type": "code",
   "execution_count": null,
   "id": "b7a83dc8",
   "metadata": {},
   "outputs": [
    {
     "name": "stdout",
     "output_type": "stream",
     "text": [
      "Processed and saved: 1~3.jpg\n",
      "Processed and saved: 10~3.jpg\n",
      "Processed and saved: 11~3.jpg\n",
      "Processed and saved: 12~3.jpg\n",
      "Processed and saved: 13~3.jpg\n",
      "Processed and saved: 15~3.jpg\n",
      "Processed and saved: 16~3.jpg\n",
      "Processed and saved: 17~3.jpg\n",
      "Processed and saved: 18~3.jpg\n",
      "Processed and saved: 2~3.jpg\n",
      "Processed and saved: 3~3.jpg\n",
      "Processed and saved: 5~3.jpg\n",
      "Processed and saved: 6~3.jpg\n",
      "Processed and saved: 7~3.jpg\n",
      "Processed and saved: 9~3.jpg\n"
     ]
    }
   ],
   "source": [
    "# Paths\n",
    "input_dir = Path(\"c:/Users/chskc/Desktop/Produtz/Task 2 - Change Detection Algorithm-20250630T074312Z-1-001/Task 2 - Change Detection Algorithm/input-images/\")\n",
    "output_dir = Path(\"task_2_output\")\n",
    "output_dir.mkdir(parents=True, exist_ok=True)\n",
    "\n",
    "# Helper: Get all 'X.jpg' files\n",
    "before_images = sorted([f for f in input_dir.glob(\"*.jpg\") if \"~2\" not in f.name and \"~3\" not in f.name])\n",
    "\n",
    "for before_path in before_images:\n",
    "    base_name = before_path.stem\n",
    "    after_path = input_dir / f\"{base_name}~2.jpg\"\n",
    "\n",
    "    if not after_path.exists():\n",
    "        print(f\"Skipping {base_name}: after image not found.\")\n",
    "        continue\n",
    "\n",
    "    # Read images\n",
    "    before = cv2.imread(str(before_path))\n",
    "    after = cv2.imread(str(after_path))\n",
    "\n",
    "    if before is None or after is None:\n",
    "        print(f\"Error reading images for {base_name}.\")\n",
    "        continue\n",
    "\n",
    "    # Convert to grayscale and blur\n",
    "    gray_before = cv2.GaussianBlur(cv2.cvtColor(before, cv2.COLOR_BGR2GRAY), (5, 5), 0)\n",
    "    gray_after = cv2.GaussianBlur(cv2.cvtColor(after, cv2.COLOR_BGR2GRAY), (5, 5), 0)\n",
    "\n",
    "    # Absolute difference and threshold\n",
    "    diff = cv2.absdiff(gray_before, gray_after)\n",
    "    _, thresh = cv2.threshold(diff, 30, 255, cv2.THRESH_BINARY)\n",
    "\n",
    "    # Morphological operations\n",
    "    kernel = cv2.getStructuringElement(cv2.MORPH_RECT, (5, 5))\n",
    "    cleaned = cv2.morphologyEx(thresh, cv2.MORPH_CLOSE, kernel, iterations=2)\n",
    "\n",
    "    # Find contours\n",
    "    contours, _ = cv2.findContours(cleaned, cv2.RETR_EXTERNAL, cv2.CHAIN_APPROX_SIMPLE)\n",
    "\n",
    "    # Draw bounding boxes on a copy of the after image\n",
    "    annotated = after.copy()\n",
    "    for cnt in contours:\n",
    "        area = cv2.contourArea(cnt)\n",
    "        if area < 500:  # Skip small noise\n",
    "            continue\n",
    "        x, y, w, h = cv2.boundingRect(cnt)\n",
    "        cv2.rectangle(annotated, (x, y), (x+w, y+h), (0, 0, 255), 2)\n",
    "\n",
    "    # Save result\n",
    "    output_path = output_dir / f\"{base_name}~3.jpg\"\n",
    "    cv2.imwrite(str(output_path), annotated)\n",
    "    print(f\"Processed and saved: {output_path.name}\")\n"
   ]
  },
  {
   "cell_type": "code",
   "execution_count": null,
   "id": "3bf9561b",
   "metadata": {},
   "outputs": [],
   "source": []
  }
 ],
 "metadata": {
  "kernelspec": {
   "display_name": "sai",
   "language": "python",
   "name": "python3"
  },
  "language_info": {
   "codemirror_mode": {
    "name": "ipython",
    "version": 3
   },
   "file_extension": ".py",
   "mimetype": "text/x-python",
   "name": "python",
   "nbconvert_exporter": "python",
   "pygments_lexer": "ipython3",
   "version": "3.11.13"
  }
 },
 "nbformat": 4,
 "nbformat_minor": 5
}
